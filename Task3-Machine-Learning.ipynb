{
 "cells": [
  {
   "cell_type": "markdown",
   "id": "a672c755",
   "metadata": {},
   "source": [
    "### Задача - 3\n",
    "#### Имя - Хурматулла  ----- Фамилия - Карими ------ Группа - 22.М07-мм\n",
    "\n",
    "Количество вопросов, которые я решил: Числа (1,2,3,4,5,6,7,9)."
   ]
  },
  {
   "cell_type": "code",
   "execution_count": 1,
   "id": "011dd70f",
   "metadata": {},
   "outputs": [],
   "source": [
    "import numpy as np\n",
    "import pandas as pd\n",
    "import matplotlib.pyplot as plt\n",
    "from sklearn.preprocessing import StandardScaler\n",
    "from sklearn.linear_model import Ridge\n",
    "from sklearn.linear_model import LogisticRegression\n",
    "from sklearn.tree import DecisionTreeClassifier\n",
    "from sklearn.svm import SVC\n",
    "from sklearn.neighbors import KNeighborsClassifier\n",
    "from sklearn.naive_bayes import GaussianNB\n",
    "from sklearn.metrics import accuracy_score\n",
    "from sklearn.linear_model import LinearRegression\n",
    "from sklearn.model_selection import train_test_split\n",
    "from sklearn.model_selection import GridSearchCV\n",
    "from sklearn.preprocessing import LabelEncoder\n",
    "from sklearn.multiclass import OneVsRestClassifier\n",
    "from sklearn.multiclass import OneVsOneClassifier\n",
    "from sklearn.multiclass import OutputCodeClassifier\n",
    "import time\n",
    "import seaborn as sns\n",
    "import warnings\n",
    "warnings.filterwarnings('ignore')"
   ]
  },
  {
   "cell_type": "code",
   "execution_count": 2,
   "id": "acbd35cc",
   "metadata": {},
   "outputs": [
    {
     "data": {
      "text/html": [
       "<div>\n",
       "<style scoped>\n",
       "    .dataframe tbody tr th:only-of-type {\n",
       "        vertical-align: middle;\n",
       "    }\n",
       "\n",
       "    .dataframe tbody tr th {\n",
       "        vertical-align: top;\n",
       "    }\n",
       "\n",
       "    .dataframe thead th {\n",
       "        text-align: right;\n",
       "    }\n",
       "</style>\n",
       "<table border=\"1\" class=\"dataframe\">\n",
       "  <thead>\n",
       "    <tr style=\"text-align: right;\">\n",
       "      <th></th>\n",
       "      <th>Id</th>\n",
       "      <th>SepalLengthCm</th>\n",
       "      <th>SepalWidthCm</th>\n",
       "      <th>PetalLengthCm</th>\n",
       "      <th>PetalWidthCm</th>\n",
       "      <th>Species</th>\n",
       "    </tr>\n",
       "  </thead>\n",
       "  <tbody>\n",
       "    <tr>\n",
       "      <th>0</th>\n",
       "      <td>1</td>\n",
       "      <td>5.1</td>\n",
       "      <td>3.5</td>\n",
       "      <td>1.4</td>\n",
       "      <td>0.2</td>\n",
       "      <td>Iris-setosa</td>\n",
       "    </tr>\n",
       "    <tr>\n",
       "      <th>1</th>\n",
       "      <td>2</td>\n",
       "      <td>4.9</td>\n",
       "      <td>3.0</td>\n",
       "      <td>1.4</td>\n",
       "      <td>0.2</td>\n",
       "      <td>Iris-setosa</td>\n",
       "    </tr>\n",
       "    <tr>\n",
       "      <th>2</th>\n",
       "      <td>3</td>\n",
       "      <td>4.7</td>\n",
       "      <td>3.2</td>\n",
       "      <td>1.3</td>\n",
       "      <td>0.2</td>\n",
       "      <td>Iris-setosa</td>\n",
       "    </tr>\n",
       "    <tr>\n",
       "      <th>3</th>\n",
       "      <td>4</td>\n",
       "      <td>4.6</td>\n",
       "      <td>3.1</td>\n",
       "      <td>1.5</td>\n",
       "      <td>0.2</td>\n",
       "      <td>Iris-setosa</td>\n",
       "    </tr>\n",
       "    <tr>\n",
       "      <th>4</th>\n",
       "      <td>5</td>\n",
       "      <td>5.0</td>\n",
       "      <td>3.6</td>\n",
       "      <td>1.4</td>\n",
       "      <td>0.2</td>\n",
       "      <td>Iris-setosa</td>\n",
       "    </tr>\n",
       "  </tbody>\n",
       "</table>\n",
       "</div>"
      ],
      "text/plain": [
       "   Id  SepalLengthCm  SepalWidthCm  PetalLengthCm  PetalWidthCm      Species\n",
       "0   1            5.1           3.5            1.4           0.2  Iris-setosa\n",
       "1   2            4.9           3.0            1.4           0.2  Iris-setosa\n",
       "2   3            4.7           3.2            1.3           0.2  Iris-setosa\n",
       "3   4            4.6           3.1            1.5           0.2  Iris-setosa\n",
       "4   5            5.0           3.6            1.4           0.2  Iris-setosa"
      ]
     },
     "execution_count": 2,
     "metadata": {},
     "output_type": "execute_result"
    }
   ],
   "source": [
    "datasets = pd.read_csv('iris.csv')\n",
    "datasets.head()"
   ]
  },
  {
   "cell_type": "code",
   "execution_count": 3,
   "id": "553a0c0a",
   "metadata": {},
   "outputs": [
    {
     "data": {
      "text/html": [
       "<div>\n",
       "<style scoped>\n",
       "    .dataframe tbody tr th:only-of-type {\n",
       "        vertical-align: middle;\n",
       "    }\n",
       "\n",
       "    .dataframe tbody tr th {\n",
       "        vertical-align: top;\n",
       "    }\n",
       "\n",
       "    .dataframe thead th {\n",
       "        text-align: right;\n",
       "    }\n",
       "</style>\n",
       "<table border=\"1\" class=\"dataframe\">\n",
       "  <thead>\n",
       "    <tr style=\"text-align: right;\">\n",
       "      <th></th>\n",
       "      <th>Id</th>\n",
       "      <th>SepalLengthCm</th>\n",
       "      <th>SepalWidthCm</th>\n",
       "      <th>PetalLengthCm</th>\n",
       "      <th>PetalWidthCm</th>\n",
       "      <th>Species</th>\n",
       "    </tr>\n",
       "  </thead>\n",
       "  <tbody>\n",
       "    <tr>\n",
       "      <th>0</th>\n",
       "      <td>False</td>\n",
       "      <td>False</td>\n",
       "      <td>False</td>\n",
       "      <td>False</td>\n",
       "      <td>False</td>\n",
       "      <td>False</td>\n",
       "    </tr>\n",
       "    <tr>\n",
       "      <th>1</th>\n",
       "      <td>False</td>\n",
       "      <td>False</td>\n",
       "      <td>False</td>\n",
       "      <td>False</td>\n",
       "      <td>False</td>\n",
       "      <td>False</td>\n",
       "    </tr>\n",
       "    <tr>\n",
       "      <th>2</th>\n",
       "      <td>False</td>\n",
       "      <td>False</td>\n",
       "      <td>False</td>\n",
       "      <td>False</td>\n",
       "      <td>False</td>\n",
       "      <td>False</td>\n",
       "    </tr>\n",
       "    <tr>\n",
       "      <th>3</th>\n",
       "      <td>False</td>\n",
       "      <td>False</td>\n",
       "      <td>False</td>\n",
       "      <td>False</td>\n",
       "      <td>False</td>\n",
       "      <td>False</td>\n",
       "    </tr>\n",
       "    <tr>\n",
       "      <th>4</th>\n",
       "      <td>False</td>\n",
       "      <td>False</td>\n",
       "      <td>False</td>\n",
       "      <td>False</td>\n",
       "      <td>False</td>\n",
       "      <td>False</td>\n",
       "    </tr>\n",
       "    <tr>\n",
       "      <th>...</th>\n",
       "      <td>...</td>\n",
       "      <td>...</td>\n",
       "      <td>...</td>\n",
       "      <td>...</td>\n",
       "      <td>...</td>\n",
       "      <td>...</td>\n",
       "    </tr>\n",
       "    <tr>\n",
       "      <th>145</th>\n",
       "      <td>False</td>\n",
       "      <td>False</td>\n",
       "      <td>False</td>\n",
       "      <td>False</td>\n",
       "      <td>False</td>\n",
       "      <td>False</td>\n",
       "    </tr>\n",
       "    <tr>\n",
       "      <th>146</th>\n",
       "      <td>False</td>\n",
       "      <td>False</td>\n",
       "      <td>False</td>\n",
       "      <td>False</td>\n",
       "      <td>False</td>\n",
       "      <td>False</td>\n",
       "    </tr>\n",
       "    <tr>\n",
       "      <th>147</th>\n",
       "      <td>False</td>\n",
       "      <td>False</td>\n",
       "      <td>False</td>\n",
       "      <td>False</td>\n",
       "      <td>False</td>\n",
       "      <td>False</td>\n",
       "    </tr>\n",
       "    <tr>\n",
       "      <th>148</th>\n",
       "      <td>False</td>\n",
       "      <td>False</td>\n",
       "      <td>False</td>\n",
       "      <td>False</td>\n",
       "      <td>False</td>\n",
       "      <td>False</td>\n",
       "    </tr>\n",
       "    <tr>\n",
       "      <th>149</th>\n",
       "      <td>False</td>\n",
       "      <td>False</td>\n",
       "      <td>False</td>\n",
       "      <td>False</td>\n",
       "      <td>False</td>\n",
       "      <td>False</td>\n",
       "    </tr>\n",
       "  </tbody>\n",
       "</table>\n",
       "<p>150 rows × 6 columns</p>\n",
       "</div>"
      ],
      "text/plain": [
       "        Id  SepalLengthCm  SepalWidthCm  PetalLengthCm  PetalWidthCm  Species\n",
       "0    False          False         False          False         False    False\n",
       "1    False          False         False          False         False    False\n",
       "2    False          False         False          False         False    False\n",
       "3    False          False         False          False         False    False\n",
       "4    False          False         False          False         False    False\n",
       "..     ...            ...           ...            ...           ...      ...\n",
       "145  False          False         False          False         False    False\n",
       "146  False          False         False          False         False    False\n",
       "147  False          False         False          False         False    False\n",
       "148  False          False         False          False         False    False\n",
       "149  False          False         False          False         False    False\n",
       "\n",
       "[150 rows x 6 columns]"
      ]
     },
     "execution_count": 3,
     "metadata": {},
     "output_type": "execute_result"
    }
   ],
   "source": [
    "datasets.isnull()"
   ]
  },
  {
   "cell_type": "code",
   "execution_count": 4,
   "id": "194d0e61",
   "metadata": {},
   "outputs": [
    {
     "data": {
      "text/plain": [
       "Id               0\n",
       "SepalLengthCm    0\n",
       "SepalWidthCm     0\n",
       "PetalLengthCm    0\n",
       "PetalWidthCm     0\n",
       "Species          0\n",
       "dtype: int64"
      ]
     },
     "execution_count": 4,
     "metadata": {},
     "output_type": "execute_result"
    }
   ],
   "source": [
    "datasets.isnull().sum()"
   ]
  },
  {
   "cell_type": "code",
   "execution_count": 5,
   "id": "458fc04c",
   "metadata": {},
   "outputs": [
    {
     "data": {
      "text/html": [
       "<div>\n",
       "<style scoped>\n",
       "    .dataframe tbody tr th:only-of-type {\n",
       "        vertical-align: middle;\n",
       "    }\n",
       "\n",
       "    .dataframe tbody tr th {\n",
       "        vertical-align: top;\n",
       "    }\n",
       "\n",
       "    .dataframe thead th {\n",
       "        text-align: right;\n",
       "    }\n",
       "</style>\n",
       "<table border=\"1\" class=\"dataframe\">\n",
       "  <thead>\n",
       "    <tr style=\"text-align: right;\">\n",
       "      <th></th>\n",
       "      <th>SepalLengthCm</th>\n",
       "      <th>SepalWidthCm</th>\n",
       "      <th>PetalLengthCm</th>\n",
       "      <th>PetalWidthCm</th>\n",
       "      <th>Species</th>\n",
       "    </tr>\n",
       "  </thead>\n",
       "  <tbody>\n",
       "    <tr>\n",
       "      <th>0</th>\n",
       "      <td>5.1</td>\n",
       "      <td>3.5</td>\n",
       "      <td>1.4</td>\n",
       "      <td>0.2</td>\n",
       "      <td>Iris-setosa</td>\n",
       "    </tr>\n",
       "    <tr>\n",
       "      <th>1</th>\n",
       "      <td>4.9</td>\n",
       "      <td>3.0</td>\n",
       "      <td>1.4</td>\n",
       "      <td>0.2</td>\n",
       "      <td>Iris-setosa</td>\n",
       "    </tr>\n",
       "    <tr>\n",
       "      <th>2</th>\n",
       "      <td>4.7</td>\n",
       "      <td>3.2</td>\n",
       "      <td>1.3</td>\n",
       "      <td>0.2</td>\n",
       "      <td>Iris-setosa</td>\n",
       "    </tr>\n",
       "    <tr>\n",
       "      <th>3</th>\n",
       "      <td>4.6</td>\n",
       "      <td>3.1</td>\n",
       "      <td>1.5</td>\n",
       "      <td>0.2</td>\n",
       "      <td>Iris-setosa</td>\n",
       "    </tr>\n",
       "    <tr>\n",
       "      <th>4</th>\n",
       "      <td>5.0</td>\n",
       "      <td>3.6</td>\n",
       "      <td>1.4</td>\n",
       "      <td>0.2</td>\n",
       "      <td>Iris-setosa</td>\n",
       "    </tr>\n",
       "  </tbody>\n",
       "</table>\n",
       "</div>"
      ],
      "text/plain": [
       "   SepalLengthCm  SepalWidthCm  PetalLengthCm  PetalWidthCm      Species\n",
       "0            5.1           3.5            1.4           0.2  Iris-setosa\n",
       "1            4.9           3.0            1.4           0.2  Iris-setosa\n",
       "2            4.7           3.2            1.3           0.2  Iris-setosa\n",
       "3            4.6           3.1            1.5           0.2  Iris-setosa\n",
       "4            5.0           3.6            1.4           0.2  Iris-setosa"
      ]
     },
     "execution_count": 5,
     "metadata": {},
     "output_type": "execute_result"
    }
   ],
   "source": [
    "datasets = datasets.drop(['Id'], axis=1)\n",
    "datasets.head()"
   ]
  },
  {
   "cell_type": "code",
   "execution_count": 6,
   "id": "2cb27502",
   "metadata": {},
   "outputs": [
    {
     "data": {
      "text/html": [
       "<div>\n",
       "<style scoped>\n",
       "    .dataframe tbody tr th:only-of-type {\n",
       "        vertical-align: middle;\n",
       "    }\n",
       "\n",
       "    .dataframe tbody tr th {\n",
       "        vertical-align: top;\n",
       "    }\n",
       "\n",
       "    .dataframe thead th {\n",
       "        text-align: right;\n",
       "    }\n",
       "</style>\n",
       "<table border=\"1\" class=\"dataframe\">\n",
       "  <thead>\n",
       "    <tr style=\"text-align: right;\">\n",
       "      <th></th>\n",
       "      <th>SepalLengthCm</th>\n",
       "      <th>SepalWidthCm</th>\n",
       "      <th>PetalLengthCm</th>\n",
       "      <th>PetalWidthCm</th>\n",
       "    </tr>\n",
       "  </thead>\n",
       "  <tbody>\n",
       "    <tr>\n",
       "      <th>count</th>\n",
       "      <td>150.000000</td>\n",
       "      <td>150.000000</td>\n",
       "      <td>150.000000</td>\n",
       "      <td>150.000000</td>\n",
       "    </tr>\n",
       "    <tr>\n",
       "      <th>mean</th>\n",
       "      <td>5.843333</td>\n",
       "      <td>3.054000</td>\n",
       "      <td>3.758667</td>\n",
       "      <td>1.198667</td>\n",
       "    </tr>\n",
       "    <tr>\n",
       "      <th>std</th>\n",
       "      <td>0.828066</td>\n",
       "      <td>0.433594</td>\n",
       "      <td>1.764420</td>\n",
       "      <td>0.763161</td>\n",
       "    </tr>\n",
       "    <tr>\n",
       "      <th>min</th>\n",
       "      <td>4.300000</td>\n",
       "      <td>2.000000</td>\n",
       "      <td>1.000000</td>\n",
       "      <td>0.100000</td>\n",
       "    </tr>\n",
       "    <tr>\n",
       "      <th>25%</th>\n",
       "      <td>5.100000</td>\n",
       "      <td>2.800000</td>\n",
       "      <td>1.600000</td>\n",
       "      <td>0.300000</td>\n",
       "    </tr>\n",
       "    <tr>\n",
       "      <th>50%</th>\n",
       "      <td>5.800000</td>\n",
       "      <td>3.000000</td>\n",
       "      <td>4.350000</td>\n",
       "      <td>1.300000</td>\n",
       "    </tr>\n",
       "    <tr>\n",
       "      <th>75%</th>\n",
       "      <td>6.400000</td>\n",
       "      <td>3.300000</td>\n",
       "      <td>5.100000</td>\n",
       "      <td>1.800000</td>\n",
       "    </tr>\n",
       "    <tr>\n",
       "      <th>max</th>\n",
       "      <td>7.900000</td>\n",
       "      <td>4.400000</td>\n",
       "      <td>6.900000</td>\n",
       "      <td>2.500000</td>\n",
       "    </tr>\n",
       "  </tbody>\n",
       "</table>\n",
       "</div>"
      ],
      "text/plain": [
       "       SepalLengthCm  SepalWidthCm  PetalLengthCm  PetalWidthCm\n",
       "count     150.000000    150.000000     150.000000    150.000000\n",
       "mean        5.843333      3.054000       3.758667      1.198667\n",
       "std         0.828066      0.433594       1.764420      0.763161\n",
       "min         4.300000      2.000000       1.000000      0.100000\n",
       "25%         5.100000      2.800000       1.600000      0.300000\n",
       "50%         5.800000      3.000000       4.350000      1.300000\n",
       "75%         6.400000      3.300000       5.100000      1.800000\n",
       "max         7.900000      4.400000       6.900000      2.500000"
      ]
     },
     "execution_count": 6,
     "metadata": {},
     "output_type": "execute_result"
    }
   ],
   "source": [
    "datasets.describe()"
   ]
  },
  {
   "cell_type": "code",
   "execution_count": 7,
   "id": "01ec6138",
   "metadata": {},
   "outputs": [
    {
     "data": {
      "text/plain": [
       "<AxesSubplot:xlabel='SepalLengthCm', ylabel='count'>"
      ]
     },
     "execution_count": 7,
     "metadata": {},
     "output_type": "execute_result"
    },
    {
     "data": {
      "image/png": "[encoded data removed]",
      "text/plain": [
       "<Figure size 432x288 with 1 Axes>"
      ]
     },
     "metadata": {
      "needs_background": "light"
     },
     "output_type": "display_data"
    }
   ],
   "source": [
    "sns.countplot('SepalLengthCm', data=datasets)"
   ]
  },
  {
   "cell_type": "code",
   "execution_count": 8,
   "id": "72a9fb40",
   "metadata": {},
   "outputs": [
    {
     "data": {
      "text/plain": [
       "<AxesSubplot:xlabel='SepalWidthCm', ylabel='count'>"
      ]
     },
     "execution_count": 8,
     "metadata": {},
     "output_type": "execute_result"
    },
    {
     "data": {
      "image/png": "[encoded data removed]",
      "text/plain": [
       "<Figure size 432x288 with 1 Axes>"
      ]
     },
     "metadata": {
      "needs_background": "light"
     },
     "output_type": "display_data"
    }
   ],
   "source": [
    "sns.countplot('SepalWidthCm', data=datasets)"
   ]
  },
  {
   "cell_type": "code",
   "execution_count": 9,
   "id": "49b03502",
   "metadata": {},
   "outputs": [
    {
     "data": {
      "text/plain": [
       "<AxesSubplot:xlabel='PetalLengthCm', ylabel='count'>"
      ]
     },
     "execution_count": 9,
     "metadata": {},
     "output_type": "execute_result"
    },
    {
     "data": {
      "image/png": "[encoded data removed]",
      "text/plain": [
       "<Figure size 432x288 with 1 Axes>"
      ]
     },
     "metadata": {
      "needs_background": "light"
     },
     "output_type": "display_data"
    }
   ],
   "source": [
    "sns.countplot('PetalLengthCm', data=datasets)"
   ]
  },
  {
   "cell_type": "code",
   "execution_count": 10,
   "id": "66e02106",
   "metadata": {},
   "outputs": [
    {
     "data": {
      "text/plain": [
       "<AxesSubplot:xlabel='PetalWidthCm', ylabel='count'>"
      ]
     },
     "execution_count": 10,
     "metadata": {},
     "output_type": "execute_result"
    },
    {
     "data": {
      "image/png": "[encoded data removed]",
      "text/plain": [
       "<Figure size 432x288 with 1 Axes>"
      ]
     },
     "metadata": {
      "needs_background": "light"
     },
     "output_type": "display_data"
    }
   ],
   "source": [
    "sns.countplot('PetalWidthCm', data=datasets)"
   ]
  },
  {
   "cell_type": "code",
   "execution_count": 11,
   "id": "2bcc456f",
   "metadata": {},
   "outputs": [
    {
     "data": {
      "text/plain": [
       "<Figure size 2160x2160 with 0 Axes>"
      ]
     },
     "metadata": {},
     "output_type": "display_data"
    },
    {
     "data": {
      "image/png": "[encoded data removed]",
      "text/plain": [
       "<Figure size 720x720 with 20 Axes>"
      ]
     },
     "metadata": {
      "needs_background": "light"
     },
     "output_type": "display_data"
    }
   ],
   "source": [
    "plt.figure(figsize = (30,30))\n",
    "sns.pairplot(datasets)\n",
    "plt.show()"
   ]
  },
  {
   "cell_type": "code",
   "execution_count": 12,
   "id": "d1d5f72e",
   "metadata": {},
   "outputs": [
    {
     "data": {
      "text/html": [
       "<div>\n",
       "<style scoped>\n",
       "    .dataframe tbody tr th:only-of-type {\n",
       "        vertical-align: middle;\n",
       "    }\n",
       "\n",
       "    .dataframe tbody tr th {\n",
       "        vertical-align: top;\n",
       "    }\n",
       "\n",
       "    .dataframe thead th {\n",
       "        text-align: right;\n",
       "    }\n",
       "</style>\n",
       "<table border=\"1\" class=\"dataframe\">\n",
       "  <thead>\n",
       "    <tr style=\"text-align: right;\">\n",
       "      <th></th>\n",
       "      <th>SepalLengthCm</th>\n",
       "      <th>SepalWidthCm</th>\n",
       "      <th>PetalLengthCm</th>\n",
       "      <th>PetalWidthCm</th>\n",
       "    </tr>\n",
       "  </thead>\n",
       "  <tbody>\n",
       "    <tr>\n",
       "      <th>0</th>\n",
       "      <td>5.1</td>\n",
       "      <td>3.5</td>\n",
       "      <td>1.4</td>\n",
       "      <td>0.2</td>\n",
       "    </tr>\n",
       "    <tr>\n",
       "      <th>1</th>\n",
       "      <td>4.9</td>\n",
       "      <td>3.0</td>\n",
       "      <td>1.4</td>\n",
       "      <td>0.2</td>\n",
       "    </tr>\n",
       "    <tr>\n",
       "      <th>2</th>\n",
       "      <td>4.7</td>\n",
       "      <td>3.2</td>\n",
       "      <td>1.3</td>\n",
       "      <td>0.2</td>\n",
       "    </tr>\n",
       "    <tr>\n",
       "      <th>3</th>\n",
       "      <td>4.6</td>\n",
       "      <td>3.1</td>\n",
       "      <td>1.5</td>\n",
       "      <td>0.2</td>\n",
       "    </tr>\n",
       "    <tr>\n",
       "      <th>4</th>\n",
       "      <td>5.0</td>\n",
       "      <td>3.6</td>\n",
       "      <td>1.4</td>\n",
       "      <td>0.2</td>\n",
       "    </tr>\n",
       "  </tbody>\n",
       "</table>\n",
       "</div>"
      ],
      "text/plain": [
       "   SepalLengthCm  SepalWidthCm  PetalLengthCm  PetalWidthCm\n",
       "0            5.1           3.5            1.4           0.2\n",
       "1            4.9           3.0            1.4           0.2\n",
       "2            4.7           3.2            1.3           0.2\n",
       "3            4.6           3.1            1.5           0.2\n",
       "4            5.0           3.6            1.4           0.2"
      ]
     },
     "execution_count": 12,
     "metadata": {},
     "output_type": "execute_result"
    }
   ],
   "source": [
    "numeric_columns = datasets.select_dtypes(include =['int64','float64'])\n",
    "numeric_columns.head()"
   ]
  },
  {
   "cell_type": "code",
   "execution_count": 13,
   "id": "6435cf9a",
   "metadata": {},
   "outputs": [
    {
     "data": {
      "image/png": "[encoded data removed]",
      "text/plain": [
       "<Figure size 1440x1440 with 2 Axes>"
      ]
     },
     "metadata": {
      "needs_background": "light"
     },
     "output_type": "display_data"
    }
   ],
   "source": [
    "plt.figure(figsize = (20,20))\n",
    "sns.heatmap(datasets.corr(), annot = True ,cmap = 'YlGnBu')\n",
    "plt.show()"
   ]
  },
  {
   "cell_type": "code",
   "execution_count": 14,
   "id": "63beead2",
   "metadata": {},
   "outputs": [
    {
     "data": {
      "text/html": [
       "<div>\n",
       "<style scoped>\n",
       "    .dataframe tbody tr th:only-of-type {\n",
       "        vertical-align: middle;\n",
       "    }\n",
       "\n",
       "    .dataframe tbody tr th {\n",
       "        vertical-align: top;\n",
       "    }\n",
       "\n",
       "    .dataframe thead th {\n",
       "        text-align: right;\n",
       "    }\n",
       "</style>\n",
       "<table border=\"1\" class=\"dataframe\">\n",
       "  <thead>\n",
       "    <tr style=\"text-align: right;\">\n",
       "      <th></th>\n",
       "      <th>Species</th>\n",
       "    </tr>\n",
       "  </thead>\n",
       "  <tbody>\n",
       "    <tr>\n",
       "      <th>0</th>\n",
       "      <td>Iris-setosa</td>\n",
       "    </tr>\n",
       "    <tr>\n",
       "      <th>1</th>\n",
       "      <td>Iris-setosa</td>\n",
       "    </tr>\n",
       "    <tr>\n",
       "      <th>2</th>\n",
       "      <td>Iris-setosa</td>\n",
       "    </tr>\n",
       "    <tr>\n",
       "      <th>3</th>\n",
       "      <td>Iris-setosa</td>\n",
       "    </tr>\n",
       "    <tr>\n",
       "      <th>4</th>\n",
       "      <td>Iris-setosa</td>\n",
       "    </tr>\n",
       "  </tbody>\n",
       "</table>\n",
       "</div>"
      ],
      "text/plain": [
       "       Species\n",
       "0  Iris-setosa\n",
       "1  Iris-setosa\n",
       "2  Iris-setosa\n",
       "3  Iris-setosa\n",
       "4  Iris-setosa"
      ]
     },
     "execution_count": 14,
     "metadata": {},
     "output_type": "execute_result"
    }
   ],
   "source": [
    "categorical_cols = datasets.select_dtypes(include=['object'])\n",
    "categorical_cols.head()"
   ]
  },
  {
   "cell_type": "code",
   "execution_count": 15,
   "id": "f8d71b06",
   "metadata": {},
   "outputs": [
    {
     "data": {
      "text/html": [
       "<div>\n",
       "<style scoped>\n",
       "    .dataframe tbody tr th:only-of-type {\n",
       "        vertical-align: middle;\n",
       "    }\n",
       "\n",
       "    .dataframe tbody tr th {\n",
       "        vertical-align: top;\n",
       "    }\n",
       "\n",
       "    .dataframe thead th {\n",
       "        text-align: right;\n",
       "    }\n",
       "</style>\n",
       "<table border=\"1\" class=\"dataframe\">\n",
       "  <thead>\n",
       "    <tr style=\"text-align: right;\">\n",
       "      <th></th>\n",
       "      <th>SepalLengthCm</th>\n",
       "      <th>SepalWidthCm</th>\n",
       "      <th>PetalLengthCm</th>\n",
       "      <th>PetalWidthCm</th>\n",
       "      <th>Species</th>\n",
       "    </tr>\n",
       "  </thead>\n",
       "  <tbody>\n",
       "    <tr>\n",
       "      <th>0</th>\n",
       "      <td>5.1</td>\n",
       "      <td>3.5</td>\n",
       "      <td>1.4</td>\n",
       "      <td>0.2</td>\n",
       "      <td>0</td>\n",
       "    </tr>\n",
       "    <tr>\n",
       "      <th>1</th>\n",
       "      <td>4.9</td>\n",
       "      <td>3.0</td>\n",
       "      <td>1.4</td>\n",
       "      <td>0.2</td>\n",
       "      <td>0</td>\n",
       "    </tr>\n",
       "    <tr>\n",
       "      <th>2</th>\n",
       "      <td>4.7</td>\n",
       "      <td>3.2</td>\n",
       "      <td>1.3</td>\n",
       "      <td>0.2</td>\n",
       "      <td>0</td>\n",
       "    </tr>\n",
       "    <tr>\n",
       "      <th>3</th>\n",
       "      <td>4.6</td>\n",
       "      <td>3.1</td>\n",
       "      <td>1.5</td>\n",
       "      <td>0.2</td>\n",
       "      <td>0</td>\n",
       "    </tr>\n",
       "    <tr>\n",
       "      <th>4</th>\n",
       "      <td>5.0</td>\n",
       "      <td>3.6</td>\n",
       "      <td>1.4</td>\n",
       "      <td>0.2</td>\n",
       "      <td>0</td>\n",
       "    </tr>\n",
       "  </tbody>\n",
       "</table>\n",
       "</div>"
      ],
      "text/plain": [
       "   SepalLengthCm  SepalWidthCm  PetalLengthCm  PetalWidthCm  Species\n",
       "0            5.1           3.5            1.4           0.2        0\n",
       "1            4.9           3.0            1.4           0.2        0\n",
       "2            4.7           3.2            1.3           0.2        0\n",
       "3            4.6           3.1            1.5           0.2        0\n",
       "4            5.0           3.6            1.4           0.2        0"
      ]
     },
     "execution_count": 15,
     "metadata": {},
     "output_type": "execute_result"
    }
   ],
   "source": [
    "le = LabelEncoder()\n",
    "datasets.Species = le.fit_transform(datasets.Species)\n",
    "datasets.head()"
   ]
  },
  {
   "cell_type": "code",
   "execution_count": 16,
   "id": "137bf695",
   "metadata": {},
   "outputs": [
    {
     "data": {
      "text/html": [
       "<div>\n",
       "<style scoped>\n",
       "    .dataframe tbody tr th:only-of-type {\n",
       "        vertical-align: middle;\n",
       "    }\n",
       "\n",
       "    .dataframe tbody tr th {\n",
       "        vertical-align: top;\n",
       "    }\n",
       "\n",
       "    .dataframe thead th {\n",
       "        text-align: right;\n",
       "    }\n",
       "</style>\n",
       "<table border=\"1\" class=\"dataframe\">\n",
       "  <thead>\n",
       "    <tr style=\"text-align: right;\">\n",
       "      <th></th>\n",
       "      <th>SepalLengthCm</th>\n",
       "      <th>SepalWidthCm</th>\n",
       "      <th>PetalLengthCm</th>\n",
       "      <th>PetalWidthCm</th>\n",
       "      <th>Species</th>\n",
       "    </tr>\n",
       "  </thead>\n",
       "  <tbody>\n",
       "    <tr>\n",
       "      <th>0</th>\n",
       "      <td>5.1</td>\n",
       "      <td>3.5</td>\n",
       "      <td>1.4</td>\n",
       "      <td>0.2</td>\n",
       "      <td>0</td>\n",
       "    </tr>\n",
       "    <tr>\n",
       "      <th>1</th>\n",
       "      <td>4.9</td>\n",
       "      <td>3.0</td>\n",
       "      <td>1.4</td>\n",
       "      <td>0.2</td>\n",
       "      <td>0</td>\n",
       "    </tr>\n",
       "    <tr>\n",
       "      <th>2</th>\n",
       "      <td>4.7</td>\n",
       "      <td>3.2</td>\n",
       "      <td>1.3</td>\n",
       "      <td>0.2</td>\n",
       "      <td>0</td>\n",
       "    </tr>\n",
       "    <tr>\n",
       "      <th>3</th>\n",
       "      <td>4.6</td>\n",
       "      <td>3.1</td>\n",
       "      <td>1.5</td>\n",
       "      <td>0.2</td>\n",
       "      <td>0</td>\n",
       "    </tr>\n",
       "    <tr>\n",
       "      <th>4</th>\n",
       "      <td>5.0</td>\n",
       "      <td>3.6</td>\n",
       "      <td>1.4</td>\n",
       "      <td>0.2</td>\n",
       "      <td>0</td>\n",
       "    </tr>\n",
       "  </tbody>\n",
       "</table>\n",
       "</div>"
      ],
      "text/plain": [
       "   SepalLengthCm  SepalWidthCm  PetalLengthCm  PetalWidthCm  Species\n",
       "0            5.1           3.5            1.4           0.2        0\n",
       "1            4.9           3.0            1.4           0.2        0\n",
       "2            4.7           3.2            1.3           0.2        0\n",
       "3            4.6           3.1            1.5           0.2        0\n",
       "4            5.0           3.6            1.4           0.2        0"
      ]
     },
     "execution_count": 16,
     "metadata": {},
     "output_type": "execute_result"
    }
   ],
   "source": [
    "datasets.head()"
   ]
  },
  {
   "cell_type": "code",
   "execution_count": 17,
   "id": "e9e0abe6",
   "metadata": {},
   "outputs": [
    {
     "data": {
      "text/plain": [
       "5.0    10\n",
       "5.1     9\n",
       "6.3     9\n",
       "5.7     8\n",
       "6.7     8\n",
       "5.8     7\n",
       "5.5     7\n",
       "6.4     7\n",
       "4.9     6\n",
       "5.4     6\n",
       "6.1     6\n",
       "6.0     6\n",
       "5.6     6\n",
       "4.8     5\n",
       "6.5     5\n",
       "6.2     4\n",
       "7.7     4\n",
       "6.9     4\n",
       "4.6     4\n",
       "5.2     4\n",
       "5.9     3\n",
       "4.4     3\n",
       "7.2     3\n",
       "6.8     3\n",
       "6.6     2\n",
       "4.7     2\n",
       "7.6     1\n",
       "7.4     1\n",
       "7.3     1\n",
       "7.0     1\n",
       "7.1     1\n",
       "5.3     1\n",
       "4.3     1\n",
       "4.5     1\n",
       "7.9     1\n",
       "Name: SepalLengthCm, dtype: int64"
      ]
     },
     "execution_count": 17,
     "metadata": {},
     "output_type": "execute_result"
    }
   ],
   "source": [
    "datasets.SepalLengthCm.value_counts()"
   ]
  },
  {
   "cell_type": "code",
   "execution_count": 18,
   "id": "74abd5a9",
   "metadata": {},
   "outputs": [
    {
     "data": {
      "text/plain": [
       "3.0    26\n",
       "2.8    14\n",
       "3.2    13\n",
       "3.1    12\n",
       "3.4    12\n",
       "2.9    10\n",
       "2.7     9\n",
       "2.5     8\n",
       "3.5     6\n",
       "3.3     6\n",
       "3.8     6\n",
       "2.6     5\n",
       "2.3     4\n",
       "3.7     3\n",
       "2.4     3\n",
       "2.2     3\n",
       "3.6     3\n",
       "3.9     2\n",
       "4.4     1\n",
       "4.0     1\n",
       "4.1     1\n",
       "4.2     1\n",
       "2.0     1\n",
       "Name: SepalWidthCm, dtype: int64"
      ]
     },
     "execution_count": 18,
     "metadata": {},
     "output_type": "execute_result"
    }
   ],
   "source": [
    "datasets.SepalWidthCm.value_counts()"
   ]
  },
  {
   "cell_type": "code",
   "execution_count": 19,
   "id": "0417ff75",
   "metadata": {},
   "outputs": [
    {
     "data": {
      "text/plain": [
       "1.5    14\n",
       "1.4    12\n",
       "5.1     8\n",
       "4.5     8\n",
       "1.6     7\n",
       "1.3     7\n",
       "5.6     6\n",
       "4.7     5\n",
       "4.9     5\n",
       "4.0     5\n",
       "4.2     4\n",
       "5.0     4\n",
       "4.4     4\n",
       "4.8     4\n",
       "1.7     4\n",
       "3.9     3\n",
       "4.6     3\n",
       "5.7     3\n",
       "4.1     3\n",
       "5.5     3\n",
       "6.1     3\n",
       "5.8     3\n",
       "3.3     2\n",
       "5.4     2\n",
       "6.7     2\n",
       "5.3     2\n",
       "5.9     2\n",
       "6.0     2\n",
       "1.2     2\n",
       "4.3     2\n",
       "1.9     2\n",
       "3.5     2\n",
       "5.2     2\n",
       "3.0     1\n",
       "1.1     1\n",
       "3.7     1\n",
       "3.8     1\n",
       "6.6     1\n",
       "6.3     1\n",
       "1.0     1\n",
       "6.9     1\n",
       "3.6     1\n",
       "6.4     1\n",
       "Name: PetalLengthCm, dtype: int64"
      ]
     },
     "execution_count": 19,
     "metadata": {},
     "output_type": "execute_result"
    }
   ],
   "source": [
    "datasets.PetalLengthCm.value_counts()"
   ]
  },
  {
   "cell_type": "code",
   "execution_count": 20,
   "id": "26c1c81a",
   "metadata": {},
   "outputs": [
    {
     "data": {
      "text/plain": [
       "0.2    28\n",
       "1.3    13\n",
       "1.8    12\n",
       "1.5    12\n",
       "1.4     8\n",
       "2.3     8\n",
       "1.0     7\n",
       "0.4     7\n",
       "0.3     7\n",
       "0.1     6\n",
       "2.1     6\n",
       "2.0     6\n",
       "1.2     5\n",
       "1.9     5\n",
       "1.6     4\n",
       "2.5     3\n",
       "2.2     3\n",
       "2.4     3\n",
       "1.1     3\n",
       "1.7     2\n",
       "0.6     1\n",
       "0.5     1\n",
       "Name: PetalWidthCm, dtype: int64"
      ]
     },
     "execution_count": 20,
     "metadata": {},
     "output_type": "execute_result"
    }
   ],
   "source": [
    "datasets.PetalWidthCm.value_counts()"
   ]
  },
  {
   "cell_type": "code",
   "execution_count": 21,
   "id": "10fd6894",
   "metadata": {},
   "outputs": [
    {
     "data": {
      "text/plain": [
       "0    50\n",
       "1    50\n",
       "2    50\n",
       "Name: Species, dtype: int64"
      ]
     },
     "execution_count": 21,
     "metadata": {},
     "output_type": "execute_result"
    }
   ],
   "source": [
    "datasets.Species.value_counts()"
   ]
  },
  {
   "cell_type": "code",
   "execution_count": 22,
   "id": "4acdb5fd",
   "metadata": {},
   "outputs": [],
   "source": [
    "X = datasets.drop('Species', axis = 1).values\n",
    "Y = datasets['Species'].values"
   ]
  },
  {
   "cell_type": "code",
   "execution_count": 23,
   "id": "3f431082",
   "metadata": {},
   "outputs": [],
   "source": [
    "X_train, X_test, y_train, y_test = train_test_split(X,Y, test_size=0.2, random_state=13)"
   ]
  },
  {
   "cell_type": "code",
   "execution_count": 24,
   "id": "99ad918d",
   "metadata": {},
   "outputs": [
    {
     "data": {
      "text/plain": [
       "(120, 4)"
      ]
     },
     "execution_count": 24,
     "metadata": {},
     "output_type": "execute_result"
    }
   ],
   "source": [
    "X_train.shape"
   ]
  },
  {
   "cell_type": "code",
   "execution_count": 25,
   "id": "5b597ae2",
   "metadata": {},
   "outputs": [
    {
     "data": {
      "text/plain": [
       "(120,)"
      ]
     },
     "execution_count": 25,
     "metadata": {},
     "output_type": "execute_result"
    }
   ],
   "source": [
    "y_train.shape"
   ]
  },
  {
   "cell_type": "code",
   "execution_count": 26,
   "id": "0023fb24",
   "metadata": {},
   "outputs": [],
   "source": [
    "scaler = StandardScaler()\n",
    "X_train = scaler.fit_transform(X_train)\n",
    "X_test = scaler.transform(X_test)"
   ]
  },
  {
   "cell_type": "markdown",
   "id": "105ede05",
   "metadata": {},
   "source": [
    "## Логистическая регрессия"
   ]
  },
  {
   "cell_type": "code",
   "execution_count": 27,
   "id": "afd3eda6",
   "metadata": {},
   "outputs": [],
   "source": [
    "get_param = { 'C' : np.logspace(-2, 4, 10)}\n",
    "grid_lg = GridSearchCV(LogisticRegression(), get_param, scoring=\"roc_auc\", cv=5)"
   ]
  },
  {
   "cell_type": "markdown",
   "id": "abf2ba25",
   "metadata": {},
   "source": [
    "### Один-Против-Остальных"
   ]
  },
  {
   "cell_type": "code",
   "execution_count": 28,
   "id": "a453687a",
   "metadata": {},
   "outputs": [
    {
     "name": "stdout",
     "output_type": "stream",
     "text": [
      "Accuracy_score:  0.9333333333333333\n",
      "Measure time of training dataset 3.6589980125427246\n"
     ]
    }
   ],
   "source": [
    "start_time = time.time()\n",
    "ovr = OneVsRestClassifier(grid_lg)\n",
    "ovr.fit(X_train, y_train)\n",
    "y_pred = ovr.predict(X_test)\n",
    "one_vs_rest_lg = accuracy_score(y_test, y_pred)\n",
    "one_vs_rest_lg_time = time.time() - start_time\n",
    "print(\"Accuracy_score: \", one_vs_rest_lg)\n",
    "print(\"Measure time of training dataset\", one_vs_rest_lg_time)"
   ]
  },
  {
   "cell_type": "markdown",
   "id": "9219ddf7",
   "metadata": {},
   "source": [
    "### Один на один"
   ]
  },
  {
   "cell_type": "code",
   "execution_count": 29,
   "id": "3a85480a",
   "metadata": {},
   "outputs": [
    {
     "name": "stdout",
     "output_type": "stream",
     "text": [
      "Accuracy_score:  0.9666666666666667\n",
      "Measure time of training dataset 3.5549964904785156\n"
     ]
    }
   ],
   "source": [
    "start_time = time.time()\n",
    "ovo = OneVsOneClassifier(grid_lg)\n",
    "ovo.fit(X_train, y_train)\n",
    "y_pred_ovo = ovo.predict(X_test)\n",
    "one_vs_one_lg = accuracy_score(y_test, y_pred_ovo)\n",
    "one_vs_one_lg_time = time.time() - start_time\n",
    "print(\"Accuracy_score: \", one_vs_one_lg)\n",
    "print(\"Measure time of training dataset\", one_vs_one_lg_time)"
   ]
  },
  {
   "cell_type": "markdown",
   "id": "9fe487d9",
   "metadata": {},
   "source": [
    "### Классификатор выходного кода"
   ]
  },
  {
   "cell_type": "code",
   "execution_count": 30,
   "id": "352273c2",
   "metadata": {},
   "outputs": [
    {
     "name": "stdout",
     "output_type": "stream",
     "text": [
      "Accuracy_score:  0.9666666666666667\n",
      "Measure time of training dataset 4.525997877120972\n"
     ]
    }
   ],
   "source": [
    "start_time = time.time()\n",
    "opc = OutputCodeClassifier(grid_lg)\n",
    "opc.fit(X_train, y_train)\n",
    "y_pred_opc = opc.predict(X_test)\n",
    "output_lg = accuracy_score(y_test, y_pred_opc)\n",
    "output_lg_time = time.time() - start_time\n",
    "print(\"Accuracy_score: \", output_lg)\n",
    "print(\"Measure time of training dataset\", output_lg_time)"
   ]
  },
  {
   "cell_type": "markdown",
   "id": "e5b3f883",
   "metadata": {},
   "source": [
    "## метод опорных векторов"
   ]
  },
  {
   "cell_type": "code",
   "execution_count": 31,
   "id": "bf95ac60",
   "metadata": {},
   "outputs": [],
   "source": [
    "get_param_svm = {'C': [0.1, 1, 5, 50, 500], \n",
    "              'gamma': [1, 0.1, 0.01, 0.001, 0.00023],\n",
    "              'kernel': ['rbf']}\n",
    "\n",
    "grid_svm = GridSearchCV(SVC(), get_param_svm, scoring=\"roc_auc\", cv=5)"
   ]
  },
  {
   "cell_type": "markdown",
   "id": "b5d4dbbd",
   "metadata": {},
   "source": [
    "### Один-Против-Остальных"
   ]
  },
  {
   "cell_type": "code",
   "execution_count": 32,
   "id": "13b9c345",
   "metadata": {},
   "outputs": [
    {
     "name": "stdout",
     "output_type": "stream",
     "text": [
      "Accuracy_score:  0.9666666666666667\n",
      "Measure time of training dataset 3.58599591255188\n"
     ]
    }
   ],
   "source": [
    "start_time = time.time()\n",
    "ovr_svm = OneVsRestClassifier(grid_svm)\n",
    "ovr_svm.fit(X_train, y_train)\n",
    "y_pred = ovr_svm.predict(X_test)\n",
    "one_vs_rest_svm = accuracy_score(y_test, y_pred)\n",
    "one_vs_rest_svm_time = time.time() - start_time\n",
    "print(\"Accuracy_score: \", one_vs_rest_svm)\n",
    "print(\"Measure time of training dataset\", one_vs_rest_svm_time)"
   ]
  },
  {
   "cell_type": "markdown",
   "id": "e9c28161",
   "metadata": {},
   "source": [
    "### Один на один"
   ]
  },
  {
   "cell_type": "code",
   "execution_count": 33,
   "id": "049e5ec6",
   "metadata": {},
   "outputs": [
    {
     "name": "stdout",
     "output_type": "stream",
     "text": [
      "Accuracy_score:  0.9333333333333333\n",
      "Measure time of training dataset 3.3659985065460205\n"
     ]
    }
   ],
   "source": [
    "start_time = time.time()\n",
    "ovo_svm = OneVsOneClassifier(grid_svm)\n",
    "ovo_svm.fit(X_train, y_train)\n",
    "y_pred = ovo_svm.predict(X_test)\n",
    "one_vs_one_svm = accuracy_score(y_test, y_pred)\n",
    "one_vs_one_svm_time = time.time() - start_time\n",
    "print(\"Accuracy_score: \", one_vs_one_svm)\n",
    "print(\"Measure time of training dataset\", one_vs_one_svm_time)"
   ]
  },
  {
   "cell_type": "markdown",
   "id": "96779899",
   "metadata": {},
   "source": [
    "### Классификатор выходного кода"
   ]
  },
  {
   "cell_type": "code",
   "execution_count": 34,
   "id": "65f1bfeb",
   "metadata": {},
   "outputs": [
    {
     "name": "stdout",
     "output_type": "stream",
     "text": [
      "Accuracy_score:  0.7\n",
      "Measure time of training dataset 2.1699986457824707\n"
     ]
    }
   ],
   "source": [
    "start_time = time.time()\n",
    "opc_svm = OutputCodeClassifier(grid_lg)\n",
    "opc_svm.fit(X_train, y_train)\n",
    "y_pred_opc_svm = opc_svm.predict(X_test)\n",
    "output_svm = accuracy_score(y_test, y_pred_opc_svm)\n",
    "output_svm_time = time.time() - start_time\n",
    "print(\"Accuracy_score: \", output_svm)\n",
    "print(\"Measure time of training dataset\", output_svm_time)"
   ]
  },
  {
   "cell_type": "markdown",
   "id": "b0fb8ace",
   "metadata": {},
   "source": [
    "### КНН"
   ]
  },
  {
   "cell_type": "code",
   "execution_count": 35,
   "id": "20290f93",
   "metadata": {},
   "outputs": [],
   "source": [
    "get_param_knn = {'n_neighbors': np.arange(1, 11,2)}\n",
    "grid_knn = GridSearchCV(KNeighborsClassifier(), get_param_knn, scoring=\"roc_auc\", cv=5)"
   ]
  },
  {
   "cell_type": "markdown",
   "id": "dd5f08b0",
   "metadata": {},
   "source": [
    "### Один-Против-Остальных"
   ]
  },
  {
   "cell_type": "code",
   "execution_count": 36,
   "id": "4ed762dc",
   "metadata": {},
   "outputs": [
    {
     "name": "stdout",
     "output_type": "stream",
     "text": [
      "Accuracy_score:  0.9666666666666667\n",
      "Measure time of training dataset 0.6829979419708252\n"
     ]
    }
   ],
   "source": [
    "start_time = time.time()\n",
    "ovr_knn = OneVsRestClassifier(grid_knn)\n",
    "ovr_knn.fit(X_train, y_train)\n",
    "y_pred = ovr_knn.predict(X_test)\n",
    "one_vs_rest_knn = accuracy_score(y_test, y_pred)\n",
    "one_vs_rest_knn_time = time.time() - start_time\n",
    "print(\"Accuracy_score: \", one_vs_rest_knn)\n",
    "print(\"Measure time of training dataset\", one_vs_rest_knn_time)"
   ]
  },
  {
   "cell_type": "markdown",
   "id": "6b5e3032",
   "metadata": {},
   "source": [
    "### Один на один"
   ]
  },
  {
   "cell_type": "code",
   "execution_count": 37,
   "id": "8c339458",
   "metadata": {},
   "outputs": [
    {
     "name": "stdout",
     "output_type": "stream",
     "text": [
      "Accuracy_score:  0.9333333333333333\n",
      "Measure time of training dataset 0.8119988441467285\n"
     ]
    }
   ],
   "source": [
    "start_time = time.time()\n",
    "ovo_knn = OneVsOneClassifier(grid_knn)\n",
    "ovo_knn.fit(X_train, y_train)\n",
    "y_pred = ovo_svm.predict(X_test)\n",
    "one_vs_one_knn = accuracy_score(y_test, y_pred)\n",
    "one_vs_one_knn_time = time.time() - start_time\n",
    "print(\"Accuracy_score: \", one_vs_one_knn)\n",
    "print(\"Measure time of training dataset\", one_vs_one_knn_time)"
   ]
  },
  {
   "cell_type": "markdown",
   "id": "9fcfaed7",
   "metadata": {},
   "source": [
    "### Классификатор выходного кода"
   ]
  },
  {
   "cell_type": "code",
   "execution_count": 38,
   "id": "96b99840",
   "metadata": {},
   "outputs": [
    {
     "name": "stdout",
     "output_type": "stream",
     "text": [
      "Accuracy_score:  0.7\n",
      "Measure time of training dataset 0.5719950199127197\n"
     ]
    }
   ],
   "source": [
    "start_time = time.time()\n",
    "opc_knn = OutputCodeClassifier(grid_knn)\n",
    "opc_knn.fit(X_train, y_train)\n",
    "y_pred_opc_knn = opc_svm.predict(X_test)\n",
    "output_knn = accuracy_score(y_test, y_pred_opc_knn)\n",
    "output_knn_time = time.time() - start_time\n",
    "print(\"Accuracy_score: \", output_knn)\n",
    "print(\"Measure time of training dataset\", output_knn_time)"
   ]
  },
  {
   "cell_type": "markdown",
   "id": "b6b395b8",
   "metadata": {},
   "source": [
    "### Наивный Байес"
   ]
  },
  {
   "cell_type": "code",
   "execution_count": 39,
   "id": "74de232a",
   "metadata": {},
   "outputs": [],
   "source": [
    "get_param_nb = {'priors': [None, [0.62, 0.38]],\n",
    "                'var_smoothing':np.logspace(0, -9, num=100)\n",
    "                }\n",
    "grid_nb = GridSearchCV(GaussianNB(), get_param_nb, scoring=\"roc_auc\", cv=5)"
   ]
  },
  {
   "cell_type": "markdown",
   "id": "1bd90c0a",
   "metadata": {},
   "source": [
    "### Один-Против-Остальных"
   ]
  },
  {
   "cell_type": "code",
   "execution_count": 40,
   "id": "7019c61d",
   "metadata": {},
   "outputs": [
    {
     "name": "stdout",
     "output_type": "stream",
     "text": [
      "Accuracy_score:  0.9666666666666667\n",
      "Measure time of training dataset 21.478994846343994\n"
     ]
    }
   ],
   "source": [
    "start_time = time.time()\n",
    "ovr_nb = OneVsRestClassifier(grid_nb)\n",
    "ovr_nb.fit(X_train, y_train)\n",
    "y_pred = ovr_nb.predict(X_test)\n",
    "one_vs_rest_nb = accuracy_score(y_test, y_pred)\n",
    "one_vs_rest_nb_time = time.time() - start_time\n",
    "print(\"Accuracy_score: \", one_vs_rest_nb)\n",
    "print(\"Measure time of training dataset\", one_vs_rest_nb_time)"
   ]
  },
  {
   "cell_type": "markdown",
   "id": "4323d6aa",
   "metadata": {},
   "source": [
    "### Один на один"
   ]
  },
  {
   "cell_type": "code",
   "execution_count": 41,
   "id": "54113d55",
   "metadata": {},
   "outputs": [
    {
     "name": "stdout",
     "output_type": "stream",
     "text": [
      "Accuracy_score:  0.9666666666666667\n",
      "Measure time of training dataset 15.130996465682983\n"
     ]
    }
   ],
   "source": [
    "start_time = time.time()\n",
    "ovo_nb = OneVsOneClassifier(grid_nb)\n",
    "ovo_nb.fit(X_train, y_train)\n",
    "y_pred = ovo_nb.predict(X_test)\n",
    "one_vs_one_nb = accuracy_score(y_test, y_pred)\n",
    "one_vs_one_nb_time = time.time() - start_time\n",
    "print(\"Accuracy_score: \", one_vs_one_nb)\n",
    "print(\"Measure time of training dataset\", one_vs_one_nb_time)"
   ]
  },
  {
   "cell_type": "markdown",
   "id": "46841f06",
   "metadata": {},
   "source": [
    "### Классификатор выходного кода"
   ]
  },
  {
   "cell_type": "code",
   "execution_count": 42,
   "id": "2f56ab5a",
   "metadata": {},
   "outputs": [
    {
     "name": "stdout",
     "output_type": "stream",
     "text": [
      "Accuracy_score:  0.7\n",
      "Measure time of training dataset 13.868995666503906\n"
     ]
    }
   ],
   "source": [
    "start_time = time.time()\n",
    "opc_nb = OutputCodeClassifier(grid_nb)\n",
    "opc_nb.fit(X_train, y_train)\n",
    "y_pred_opc_nb = opc_svm.predict(X_test)\n",
    "output_nb = accuracy_score(y_test, y_pred_opc_nb)\n",
    "output_nb_time = time.time() - start_time\n",
    "print(\"Accuracy_score: \", output_nb)\n",
    "print(\"Measure time of training dataset\", output_nb_time)"
   ]
  },
  {
   "cell_type": "markdown",
   "id": "293a84d0",
   "metadata": {},
   "source": [
    "### Дерево решений"
   ]
  },
  {
   "cell_type": "code",
   "execution_count": 43,
   "id": "7003943d",
   "metadata": {},
   "outputs": [],
   "source": [
    "get_param_dt = {'max_leaf_nodes': list(range(2, 100)), 'min_samples_split': [2, 3, 4]}\n",
    "grid_dt = GridSearchCV(DecisionTreeClassifier(random_state=42), get_param_dt, verbose=1, cv=5)"
   ]
  },
  {
   "cell_type": "markdown",
   "id": "c9ec8d7a",
   "metadata": {},
   "source": [
    "### Один-Против-Остальных"
   ]
  },
  {
   "cell_type": "code",
   "execution_count": 44,
   "id": "7b7168eb",
   "metadata": {},
   "outputs": [
    {
     "name": "stdout",
     "output_type": "stream",
     "text": [
      "Fitting 5 folds for each of 294 candidates, totalling 1470 fits\n",
      "Fitting 5 folds for each of 294 candidates, totalling 1470 fits\n",
      "Fitting 5 folds for each of 294 candidates, totalling 1470 fits\n",
      "Accuracy_score:  1.0\n",
      "Measure time of training dataset 11.41903281211853\n"
     ]
    }
   ],
   "source": [
    "start_time = time.time()\n",
    "ovr_dt = OneVsRestClassifier(grid_dt)\n",
    "ovr_dt.fit(X_train, y_train)\n",
    "y_pred = ovr_dt.predict(X_test)\n",
    "one_vs_rest_dt = accuracy_score(y_test, y_pred)\n",
    "one_vs_rest_dt_time = time.time() - start_time\n",
    "print(\"Accuracy_score: \", one_vs_rest_dt)\n",
    "print(\"Measure time of training dataset\", one_vs_rest_dt_time)"
   ]
  },
  {
   "cell_type": "markdown",
   "id": "05fdcdf5",
   "metadata": {},
   "source": [
    "### Один на один"
   ]
  },
  {
   "cell_type": "code",
   "execution_count": 45,
   "id": "f2a5e98f",
   "metadata": {},
   "outputs": [
    {
     "name": "stdout",
     "output_type": "stream",
     "text": [
      "Fitting 5 folds for each of 294 candidates, totalling 1470 fits\n",
      "Fitting 5 folds for each of 294 candidates, totalling 1470 fits\n",
      "Fitting 5 folds for each of 294 candidates, totalling 1470 fits\n",
      "Accuracy_score:  0.9666666666666667\n",
      "Measure time of training dataset 10.37799859046936\n"
     ]
    }
   ],
   "source": [
    "start_time = time.time()\n",
    "ovo_dt = OneVsOneClassifier(grid_dt)\n",
    "ovo_dt.fit(X_train, y_train)\n",
    "y_pred = ovo_dt.predict(X_test)\n",
    "one_vs_one_dt = accuracy_score(y_test, y_pred)\n",
    "one_vs_one_dt_time = time.time() - start_time\n",
    "print(\"Accuracy_score: \", one_vs_one_dt)\n",
    "print(\"Measure time of training dataset\", one_vs_one_dt_time)"
   ]
  },
  {
   "cell_type": "markdown",
   "id": "0f7d49b1",
   "metadata": {},
   "source": [
    "### Классификатор выходного кода"
   ]
  },
  {
   "cell_type": "code",
   "execution_count": 46,
   "id": "b1ea596f",
   "metadata": {},
   "outputs": [
    {
     "name": "stdout",
     "output_type": "stream",
     "text": [
      "Fitting 5 folds for each of 294 candidates, totalling 1470 fits\n",
      "Fitting 5 folds for each of 294 candidates, totalling 1470 fits\n",
      "Fitting 5 folds for each of 294 candidates, totalling 1470 fits\n",
      "Accuracy_score:  0.7\n",
      "Measure time of training dataset 11.109999895095825\n"
     ]
    }
   ],
   "source": [
    "start_time = time.time()\n",
    "opc_dt = OutputCodeClassifier(grid_dt)\n",
    "opc_dt.fit(X_train, y_train)\n",
    "y_pred_opc_dt = opc_svm.predict(X_test)\n",
    "output_dt = accuracy_score(y_test, y_pred_opc_dt)\n",
    "output_dt_time = time.time() - start_time\n",
    "print(\"Accuracy_score: \", output_dt)\n",
    "print(\"Measure time of training dataset\", output_dt_time)"
   ]
  },
  {
   "cell_type": "markdown",
   "id": "910a33eb",
   "metadata": {},
   "source": [
    "### Сравнение моделей"
   ]
  },
  {
   "cell_type": "code",
   "execution_count": 47,
   "id": "562890ca",
   "metadata": {},
   "outputs": [
    {
     "data": {
      "text/html": [
       "<div>\n",
       "<style scoped>\n",
       "    .dataframe tbody tr th:only-of-type {\n",
       "        vertical-align: middle;\n",
       "    }\n",
       "\n",
       "    .dataframe tbody tr th {\n",
       "        vertical-align: top;\n",
       "    }\n",
       "\n",
       "    .dataframe thead th {\n",
       "        text-align: right;\n",
       "    }\n",
       "</style>\n",
       "<table border=\"1\" class=\"dataframe\">\n",
       "  <thead>\n",
       "    <tr style=\"text-align: right;\">\n",
       "      <th></th>\n",
       "      <th>OVR</th>\n",
       "      <th>OVR-Time</th>\n",
       "      <th>OVO</th>\n",
       "      <th>OVO-Time</th>\n",
       "      <th>OPC</th>\n",
       "      <th>OPC-Time</th>\n",
       "    </tr>\n",
       "  </thead>\n",
       "  <tbody>\n",
       "    <tr>\n",
       "      <th>Linear-Regression</th>\n",
       "      <td>0.933333</td>\n",
       "      <td>3.658998</td>\n",
       "      <td>0.966667</td>\n",
       "      <td>3.554996</td>\n",
       "      <td>0.966667</td>\n",
       "      <td>4.525998</td>\n",
       "    </tr>\n",
       "    <tr>\n",
       "      <th>Support-Vector-Machine</th>\n",
       "      <td>0.966667</td>\n",
       "      <td>3.585996</td>\n",
       "      <td>0.933333</td>\n",
       "      <td>3.365999</td>\n",
       "      <td>0.700000</td>\n",
       "      <td>2.169999</td>\n",
       "    </tr>\n",
       "    <tr>\n",
       "      <th>K-Nearest-Neghbor</th>\n",
       "      <td>0.966667</td>\n",
       "      <td>0.682998</td>\n",
       "      <td>0.933333</td>\n",
       "      <td>0.811999</td>\n",
       "      <td>0.700000</td>\n",
       "      <td>0.571995</td>\n",
       "    </tr>\n",
       "    <tr>\n",
       "      <th>Naive-Bayes</th>\n",
       "      <td>0.966667</td>\n",
       "      <td>21.478995</td>\n",
       "      <td>0.966667</td>\n",
       "      <td>15.130996</td>\n",
       "      <td>0.700000</td>\n",
       "      <td>13.868996</td>\n",
       "    </tr>\n",
       "    <tr>\n",
       "      <th>Dicision-Tree</th>\n",
       "      <td>1.000000</td>\n",
       "      <td>11.419033</td>\n",
       "      <td>0.966667</td>\n",
       "      <td>10.377999</td>\n",
       "      <td>0.700000</td>\n",
       "      <td>11.110000</td>\n",
       "    </tr>\n",
       "  </tbody>\n",
       "</table>\n",
       "</div>"
      ],
      "text/plain": [
       "                             OVR   OVR-Time       OVO   OVO-Time       OPC  \\\n",
       "Linear-Regression       0.933333   3.658998  0.966667   3.554996  0.966667   \n",
       "Support-Vector-Machine  0.966667   3.585996  0.933333   3.365999  0.700000   \n",
       "K-Nearest-Neghbor       0.966667   0.682998  0.933333   0.811999  0.700000   \n",
       "Naive-Bayes             0.966667  21.478995  0.966667  15.130996  0.700000   \n",
       "Dicision-Tree           1.000000  11.419033  0.966667  10.377999  0.700000   \n",
       "\n",
       "                         OPC-Time  \n",
       "Linear-Regression        4.525998  \n",
       "Support-Vector-Machine   2.169999  \n",
       "K-Nearest-Neghbor        0.571995  \n",
       "Naive-Bayes             13.868996  \n",
       "Dicision-Tree           11.110000  "
      ]
     },
     "execution_count": 47,
     "metadata": {},
     "output_type": "execute_result"
    }
   ],
   "source": [
    "data = {'OVR': [one_vs_rest_lg, one_vs_rest_svm, one_vs_rest_knn, one_vs_rest_nb, one_vs_rest_dt],\n",
    "        'OVR-Time': [one_vs_rest_lg_time, one_vs_rest_svm_time, one_vs_rest_knn_time, one_vs_rest_nb_time, one_vs_rest_dt_time],\n",
    "        'OVO': [one_vs_one_lg, one_vs_one_svm, one_vs_one_knn, one_vs_one_nb, one_vs_one_dt],\n",
    "        'OVO-Time': [one_vs_one_lg_time, one_vs_one_svm_time, one_vs_one_knn_time, one_vs_one_nb_time, one_vs_one_dt_time],\n",
    "        'OPC': [output_lg, output_svm, output_knn, output_nb, output_dt],\n",
    "        'OPC-Time': [output_lg_time, output_svm_time, output_knn_time, output_nb_time, output_dt_time]\n",
    "       }\n",
    "  \n",
    "# Creates pandas DataFrame.\n",
    "result = pd.DataFrame(data, index=['Linear-Regression',\n",
    "                               'Support-Vector-Machine',\n",
    "                               'K-Nearest-Neghbor',\n",
    "                               'Naive-Bayes',\n",
    "                               'Dicision-Tree'])\n",
    "\n",
    "\n",
    "result"
   ]
  },
  {
   "cell_type": "markdown",
   "id": "736f8421",
   "metadata": {},
   "source": [
    "### Классификатор с несколькими выходами"
   ]
  },
  {
   "cell_type": "code",
   "execution_count": 48,
   "id": "6261dcf6",
   "metadata": {},
   "outputs": [],
   "source": [
    "Multi_x = datasets.drop(columns=['SepalLengthCm','PetalLengthCm'])\n",
    "Multi_y = datasets[['SepalLengthCm','PetalLengthCm']]"
   ]
  },
  {
   "cell_type": "code",
   "execution_count": 49,
   "id": "82a68f6f",
   "metadata": {},
   "outputs": [],
   "source": [
    "X_train, X_test, y_train, y_test = train_test_split(Multi_x,Multi_y, test_size=0.2, random_state=13)"
   ]
  },
  {
   "cell_type": "markdown",
   "id": "42d49a85",
   "metadata": {},
   "source": [
    "### Регрессия с несколькими выходами"
   ]
  },
  {
   "cell_type": "code",
   "execution_count": 50,
   "id": "6e12665a",
   "metadata": {},
   "outputs": [],
   "source": [
    "ridge_param = {'alpha': np.arange(0, 2, 0.1)} \n",
    "\n",
    "grid_param= GridSearchCV(Ridge(),\n",
    "                      ridge_param,\n",
    "                      scoring='r2',\n",
    "                      cv = 3)"
   ]
  },
  {
   "cell_type": "code",
   "execution_count": 51,
   "id": "04819d79",
   "metadata": {},
   "outputs": [
    {
     "name": "stdout",
     "output_type": "stream",
     "text": [
      "MultiOutputRegressor\n",
      " train r2:  0.8318701764380085 \n",
      " training time:  0.7330009937286377\n"
     ]
    }
   ],
   "source": [
    "from sklearn.linear_model import Ridge\n",
    "from sklearn.multioutput import MultiOutputRegressor, RegressorChain\n",
    "from sklearn.metrics import r2_score\n",
    "\n",
    "multioutputReg = MultiOutputRegressor(grid_param)\n",
    "start_time = time.time()\n",
    "multioutputReg.fit(X_train, y_train)\n",
    "end_time = time.time() - start_time\n",
    "\n",
    "multioutputResult = multioutputReg.predict(X_train)\n",
    "r2_score = r2_score(y_train, multioutputResult)\n",
    "print(\"MultiOutputRegressor\\n train r2: \", r2_score, \"\\n training time: \", end_time)"
   ]
  },
  {
   "cell_type": "markdown",
   "id": "9876945d",
   "metadata": {},
   "source": [
    "### Пользовательская R2-формула"
   ]
  },
  {
   "cell_type": "code",
   "execution_count": 52,
   "id": "1541e0c2",
   "metadata": {},
   "outputs": [],
   "source": [
    "def r2_formula(actual_data, predicted_data):\n",
    "    actual_data = np.array(actual_data)\n",
    "    predicted_data = np.array(predicted_data)\n",
    "    difference1 = np.subtract(actual_data, predicted_data)\n",
    "    squared_diff1 = np.square(difference1)\n",
    "    difference2 = actual_data - actual_data.mean()\n",
    "    squared_diff2 = np.square(difference2)\n",
    "    return 1-squared_diff1.sum()/squared_diff2.sum()"
   ]
  },
  {
   "cell_type": "markdown",
   "id": "c1b13933",
   "metadata": {},
   "source": [
    "### Цепь регрессоров"
   ]
  },
  {
   "cell_type": "code",
   "execution_count": 53,
   "id": "5dfe615e",
   "metadata": {},
   "outputs": [
    {
     "name": "stdout",
     "output_type": "stream",
     "text": [
      "Regression-Chain\n",
      "R2 score:  0.9370867132085537\n",
      "Training_time:  0.25299811363220215\n"
     ]
    }
   ],
   "source": [
    "regressor_chain = RegressorChain(grid_param)\n",
    "start_time = time.time()\n",
    "regressor_chain.fit(X_train, y_train)\n",
    "end_time = time.time() - start_time\n",
    "\n",
    "rg_chain = regressor_chain.predict(X_train)\n",
    "\n",
    "# r2_ridge_train_rc = r2_score(y_train, rg_chain)\n",
    "reg_chain = r2_formula(y_train, rg_chain)\n",
    "print(\"Regression-Chain\")\n",
    "print(\"R2 score: \", reg_chain)\n",
    "print(\"Training_time: \", end_time)"
   ]
  }
 ],
 "metadata": {
  "kernelspec": {
   "display_name": "Python 3 (ipykernel)",
   "language": "python",
   "name": "python3"
  },
  "language_info": {
   "codemirror_mode": {
    "name": "ipython",
    "version": 3
   },
   "file_extension": ".py",
   "mimetype": "text/x-python",
   "name": "python",
   "nbconvert_exporter": "python",
   "pygments_lexer": "ipython3",
   "version": "3.9.12"
  }
 },
 "nbformat": 4,
 "nbformat_minor": 5
}
